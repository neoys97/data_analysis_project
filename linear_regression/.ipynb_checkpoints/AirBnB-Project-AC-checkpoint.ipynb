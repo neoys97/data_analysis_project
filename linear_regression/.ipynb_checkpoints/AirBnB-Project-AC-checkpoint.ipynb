{
 "cells": [
  {
   "cell_type": "code",
   "execution_count": 1,
   "metadata": {},
   "outputs": [
    {
     "name": "stdout",
     "output_type": "stream",
     "text": [
      "Requirement already satisfied: pandas in /Library/Frameworks/Python.framework/Versions/3.7/lib/python3.7/site-packages (0.25.3)\n",
      "Requirement already satisfied: python-dateutil>=2.6.1 in /Library/Frameworks/Python.framework/Versions/3.7/lib/python3.7/site-packages (from pandas) (2.8.0)\n",
      "Requirement already satisfied: pytz>=2017.2 in /Library/Frameworks/Python.framework/Versions/3.7/lib/python3.7/site-packages (from pandas) (2019.3)\n",
      "Requirement already satisfied: numpy>=1.13.3 in /Library/Frameworks/Python.framework/Versions/3.7/lib/python3.7/site-packages (from pandas) (1.16.4)\n",
      "Requirement already satisfied: six>=1.5 in /Library/Frameworks/Python.framework/Versions/3.7/lib/python3.7/site-packages (from python-dateutil>=2.6.1->pandas) (1.11.0)\n",
      "\u001b[33mYou are using pip version 19.0.3, however version 19.3.1 is available.\n",
      "You should consider upgrading via the 'pip install --upgrade pip' command.\u001b[0m\n",
      "Requirement already satisfied: sklearn in /Library/Frameworks/Python.framework/Versions/3.7/lib/python3.7/site-packages (0.0)\n",
      "Requirement already satisfied: scikit-learn in /Library/Frameworks/Python.framework/Versions/3.7/lib/python3.7/site-packages (from sklearn) (0.21.3)\n",
      "Requirement already satisfied: joblib>=0.11 in /Library/Frameworks/Python.framework/Versions/3.7/lib/python3.7/site-packages (from scikit-learn->sklearn) (0.14.0)\n",
      "Requirement already satisfied: scipy>=0.17.0 in /Library/Frameworks/Python.framework/Versions/3.7/lib/python3.7/site-packages (from scikit-learn->sklearn) (1.3.1)\n",
      "Requirement already satisfied: numpy>=1.11.0 in /Library/Frameworks/Python.framework/Versions/3.7/lib/python3.7/site-packages (from scikit-learn->sklearn) (1.16.4)\n",
      "\u001b[33mYou are using pip version 19.0.3, however version 19.3.1 is available.\n",
      "You should consider upgrading via the 'pip install --upgrade pip' command.\u001b[0m\n",
      "Requirement already satisfied: seaborn in /Library/Frameworks/Python.framework/Versions/3.7/lib/python3.7/site-packages (0.9.0)\n",
      "Requirement already satisfied: numpy>=1.9.3 in /Library/Frameworks/Python.framework/Versions/3.7/lib/python3.7/site-packages (from seaborn) (1.16.4)\n",
      "Requirement already satisfied: matplotlib>=1.4.3 in /Library/Frameworks/Python.framework/Versions/3.7/lib/python3.7/site-packages (from seaborn) (3.1.1)\n",
      "Requirement already satisfied: pandas>=0.15.2 in /Library/Frameworks/Python.framework/Versions/3.7/lib/python3.7/site-packages (from seaborn) (0.25.3)\n",
      "Requirement already satisfied: scipy>=0.14.0 in /Library/Frameworks/Python.framework/Versions/3.7/lib/python3.7/site-packages (from seaborn) (1.3.1)\n",
      "Requirement already satisfied: kiwisolver>=1.0.1 in /Library/Frameworks/Python.framework/Versions/3.7/lib/python3.7/site-packages (from matplotlib>=1.4.3->seaborn) (1.1.0)\n",
      "Requirement already satisfied: cycler>=0.10 in /Library/Frameworks/Python.framework/Versions/3.7/lib/python3.7/site-packages (from matplotlib>=1.4.3->seaborn) (0.10.0)\n",
      "Requirement already satisfied: python-dateutil>=2.1 in /Library/Frameworks/Python.framework/Versions/3.7/lib/python3.7/site-packages (from matplotlib>=1.4.3->seaborn) (2.8.0)\n",
      "Requirement already satisfied: pyparsing!=2.0.4,!=2.1.2,!=2.1.6,>=2.0.1 in /Library/Frameworks/Python.framework/Versions/3.7/lib/python3.7/site-packages (from matplotlib>=1.4.3->seaborn) (2.4.2)\n",
      "Requirement already satisfied: pytz>=2017.2 in /Library/Frameworks/Python.framework/Versions/3.7/lib/python3.7/site-packages (from pandas>=0.15.2->seaborn) (2019.3)\n",
      "Requirement already satisfied: setuptools in /Library/Frameworks/Python.framework/Versions/3.7/lib/python3.7/site-packages (from kiwisolver>=1.0.1->matplotlib>=1.4.3->seaborn) (41.6.0)\n",
      "Requirement already satisfied: six in /Library/Frameworks/Python.framework/Versions/3.7/lib/python3.7/site-packages (from cycler>=0.10->matplotlib>=1.4.3->seaborn) (1.11.0)\n",
      "\u001b[33mYou are using pip version 19.0.3, however version 19.3.1 is available.\n",
      "You should consider upgrading via the 'pip install --upgrade pip' command.\u001b[0m\n",
      "Requirement already satisfied: matplotlib in /Library/Frameworks/Python.framework/Versions/3.7/lib/python3.7/site-packages (3.1.1)\n",
      "Requirement already satisfied: pyparsing!=2.0.4,!=2.1.2,!=2.1.6,>=2.0.1 in /Library/Frameworks/Python.framework/Versions/3.7/lib/python3.7/site-packages (from matplotlib) (2.4.2)\n",
      "Requirement already satisfied: kiwisolver>=1.0.1 in /Library/Frameworks/Python.framework/Versions/3.7/lib/python3.7/site-packages (from matplotlib) (1.1.0)\n",
      "Requirement already satisfied: numpy>=1.11 in /Library/Frameworks/Python.framework/Versions/3.7/lib/python3.7/site-packages (from matplotlib) (1.16.4)\n",
      "Requirement already satisfied: python-dateutil>=2.1 in /Library/Frameworks/Python.framework/Versions/3.7/lib/python3.7/site-packages (from matplotlib) (2.8.0)\n",
      "Requirement already satisfied: cycler>=0.10 in /Library/Frameworks/Python.framework/Versions/3.7/lib/python3.7/site-packages (from matplotlib) (0.10.0)\n",
      "Requirement already satisfied: setuptools in /Library/Frameworks/Python.framework/Versions/3.7/lib/python3.7/site-packages (from kiwisolver>=1.0.1->matplotlib) (41.6.0)\n",
      "Requirement already satisfied: six>=1.5 in /Library/Frameworks/Python.framework/Versions/3.7/lib/python3.7/site-packages (from python-dateutil>=2.1->matplotlib) (1.11.0)\n",
      "\u001b[33mYou are using pip version 19.0.3, however version 19.3.1 is available.\n",
      "You should consider upgrading via the 'pip install --upgrade pip' command.\u001b[0m\n",
      "Requirement already satisfied: statsmodels in /Library/Frameworks/Python.framework/Versions/3.7/lib/python3.7/site-packages (0.10.2)\n",
      "Requirement already satisfied: patsy>=0.4.0 in /Library/Frameworks/Python.framework/Versions/3.7/lib/python3.7/site-packages (from statsmodels) (0.5.1)\n",
      "Requirement already satisfied: numpy>=1.11 in /Library/Frameworks/Python.framework/Versions/3.7/lib/python3.7/site-packages (from statsmodels) (1.16.4)\n",
      "Requirement already satisfied: pandas>=0.19 in /Library/Frameworks/Python.framework/Versions/3.7/lib/python3.7/site-packages (from statsmodels) (0.25.3)\n",
      "Requirement already satisfied: scipy>=0.18 in /Library/Frameworks/Python.framework/Versions/3.7/lib/python3.7/site-packages (from statsmodels) (1.3.1)\n",
      "Requirement already satisfied: six in /Library/Frameworks/Python.framework/Versions/3.7/lib/python3.7/site-packages (from patsy>=0.4.0->statsmodels) (1.11.0)\n",
      "Requirement already satisfied: pytz>=2017.2 in /Library/Frameworks/Python.framework/Versions/3.7/lib/python3.7/site-packages (from pandas>=0.19->statsmodels) (2019.3)\n",
      "Requirement already satisfied: python-dateutil>=2.6.1 in /Library/Frameworks/Python.framework/Versions/3.7/lib/python3.7/site-packages (from pandas>=0.19->statsmodels) (2.8.0)\n",
      "\u001b[33mYou are using pip version 19.0.3, however version 19.3.1 is available.\n",
      "You should consider upgrading via the 'pip install --upgrade pip' command.\u001b[0m\n"
     ]
    }
   ],
   "source": [
    "# install dependencies\n",
    "# this cell might take some time to run, be patient\n",
    "import sys\n",
    "\n",
    "!{sys.executable} -m pip install pandas\n",
    "!{sys.executable} -m pip install numpy\n",
    "!{sys.executable} -m pip install sklearn\n",
    "!{sys.executable} -m pip install seaborn\n",
    "!{sys.executable} -m pip install matplotlib\n",
    "!{sys.executable} -m pip install statsmodels"
   ]
  },
  {
   "cell_type": "code",
   "execution_count": 2,
   "metadata": {},
   "outputs": [],
   "source": [
    "# Part A\n",
    "\n",
    "import pandas as pd\n",
    "\n",
    "airbnb_df = pd.read_csv('airbnb data.csv')\n",
    "airbnb_df = airbnb_df.loc[:, ['accommodates', 'bathrooms','neighbourhood','num_beds','price','property_type']]"
   ]
  },
  {
   "cell_type": "code",
   "execution_count": 3,
   "metadata": {},
   "outputs": [
    {
     "data": {
      "text/html": [
       "<div>\n",
       "<style scoped>\n",
       "    .dataframe tbody tr th:only-of-type {\n",
       "        vertical-align: middle;\n",
       "    }\n",
       "\n",
       "    .dataframe tbody tr th {\n",
       "        vertical-align: top;\n",
       "    }\n",
       "\n",
       "    .dataframe thead th {\n",
       "        text-align: right;\n",
       "    }\n",
       "</style>\n",
       "<table border=\"1\" class=\"dataframe\">\n",
       "  <thead>\n",
       "    <tr style=\"text-align: right;\">\n",
       "      <th></th>\n",
       "      <th>accommodates</th>\n",
       "      <th>bathrooms</th>\n",
       "      <th>neighbourhood</th>\n",
       "      <th>num_beds</th>\n",
       "      <th>price</th>\n",
       "      <th>property_type</th>\n",
       "    </tr>\n",
       "  </thead>\n",
       "  <tbody>\n",
       "    <tr>\n",
       "      <th>0</th>\n",
       "      <td>1.0</td>\n",
       "      <td>1.0</td>\n",
       "      <td>Kitsilano</td>\n",
       "      <td>1</td>\n",
       "      <td>39</td>\n",
       "      <td>Apartment</td>\n",
       "    </tr>\n",
       "    <tr>\n",
       "      <th>1</th>\n",
       "      <td>1.0</td>\n",
       "      <td>1.0</td>\n",
       "      <td>Kensington-Cedar Cottage</td>\n",
       "      <td>1</td>\n",
       "      <td>43</td>\n",
       "      <td>Townhouse</td>\n",
       "    </tr>\n",
       "    <tr>\n",
       "      <th>2</th>\n",
       "      <td>2.0</td>\n",
       "      <td>1.0</td>\n",
       "      <td>Dunbar-Southlands</td>\n",
       "      <td>1</td>\n",
       "      <td>20</td>\n",
       "      <td>Apartment</td>\n",
       "    </tr>\n",
       "    <tr>\n",
       "      <th>3</th>\n",
       "      <td>3.0</td>\n",
       "      <td>1.0</td>\n",
       "      <td>Fraserview</td>\n",
       "      <td>1</td>\n",
       "      <td>49</td>\n",
       "      <td>Bed and breakfast</td>\n",
       "    </tr>\n",
       "    <tr>\n",
       "      <th>4</th>\n",
       "      <td>2.0</td>\n",
       "      <td>1.0</td>\n",
       "      <td>Oakridge</td>\n",
       "      <td>1</td>\n",
       "      <td>49</td>\n",
       "      <td>Villa</td>\n",
       "    </tr>\n",
       "    <tr>\n",
       "      <th>...</th>\n",
       "      <td>...</td>\n",
       "      <td>...</td>\n",
       "      <td>...</td>\n",
       "      <td>...</td>\n",
       "      <td>...</td>\n",
       "      <td>...</td>\n",
       "    </tr>\n",
       "    <tr>\n",
       "      <th>405</th>\n",
       "      <td>5.0</td>\n",
       "      <td>2.5</td>\n",
       "      <td>Kitsilano</td>\n",
       "      <td>5</td>\n",
       "      <td>249</td>\n",
       "      <td>House</td>\n",
       "    </tr>\n",
       "    <tr>\n",
       "      <th>406</th>\n",
       "      <td>4.0</td>\n",
       "      <td>1.0</td>\n",
       "      <td>Mount Pleasant</td>\n",
       "      <td>5</td>\n",
       "      <td>224</td>\n",
       "      <td>House</td>\n",
       "    </tr>\n",
       "    <tr>\n",
       "      <th>407</th>\n",
       "      <td>6.0</td>\n",
       "      <td>1.5</td>\n",
       "      <td>Riley Park</td>\n",
       "      <td>5</td>\n",
       "      <td>220</td>\n",
       "      <td>House</td>\n",
       "    </tr>\n",
       "    <tr>\n",
       "      <th>408</th>\n",
       "      <td>6.0</td>\n",
       "      <td>1.0</td>\n",
       "      <td>Downtown Vancouver</td>\n",
       "      <td>1</td>\n",
       "      <td>13</td>\n",
       "      <td>Condominium</td>\n",
       "    </tr>\n",
       "    <tr>\n",
       "      <th>409</th>\n",
       "      <td>NaN</td>\n",
       "      <td>1.0</td>\n",
       "      <td>NaN</td>\n",
       "      <td>1</td>\n",
       "      <td>39</td>\n",
       "      <td>Apartment</td>\n",
       "    </tr>\n",
       "  </tbody>\n",
       "</table>\n",
       "<p>410 rows × 6 columns</p>\n",
       "</div>"
      ],
      "text/plain": [
       "     accommodates  bathrooms             neighbourhood  num_beds  price  \\\n",
       "0             1.0        1.0                 Kitsilano         1     39   \n",
       "1             1.0        1.0  Kensington-Cedar Cottage         1     43   \n",
       "2             2.0        1.0         Dunbar-Southlands         1     20   \n",
       "3             3.0        1.0                Fraserview         1     49   \n",
       "4             2.0        1.0                  Oakridge         1     49   \n",
       "..            ...        ...                       ...       ...    ...   \n",
       "405           5.0        2.5                 Kitsilano         5    249   \n",
       "406           4.0        1.0            Mount Pleasant         5    224   \n",
       "407           6.0        1.5                Riley Park         5    220   \n",
       "408           6.0        1.0        Downtown Vancouver         1     13   \n",
       "409           NaN        1.0                       NaN         1     39   \n",
       "\n",
       "         property_type  \n",
       "0            Apartment  \n",
       "1            Townhouse  \n",
       "2            Apartment  \n",
       "3    Bed and breakfast  \n",
       "4                Villa  \n",
       "..                 ...  \n",
       "405              House  \n",
       "406              House  \n",
       "407              House  \n",
       "408        Condominium  \n",
       "409          Apartment  \n",
       "\n",
       "[410 rows x 6 columns]"
      ]
     },
     "execution_count": 3,
     "metadata": {},
     "output_type": "execute_result"
    }
   ],
   "source": [
    "airbnb_df"
   ]
  },
  {
   "cell_type": "code",
   "execution_count": 4,
   "metadata": {},
   "outputs": [],
   "source": [
    "# return the smoothed mean encoding\n",
    "def get_smooth_mean_encode (df, cat_name, target, weight):\n",
    "    mean = df[target].mean()\n",
    "    agg = df.groupby(cat_name)[target].agg([\"count\", \"mean\"])\n",
    "    counts = agg[\"count\"]\n",
    "    means = agg[\"mean\"]\n",
    "    smooth = (counts * means + weight * mean) / (counts + weight)\n",
    "    return smooth"
   ]
  },
  {
   "cell_type": "code",
   "execution_count": 5,
   "metadata": {},
   "outputs": [
    {
     "data": {
      "text/html": [
       "<div>\n",
       "<style scoped>\n",
       "    .dataframe tbody tr th:only-of-type {\n",
       "        vertical-align: middle;\n",
       "    }\n",
       "\n",
       "    .dataframe tbody tr th {\n",
       "        vertical-align: top;\n",
       "    }\n",
       "\n",
       "    .dataframe thead th {\n",
       "        text-align: right;\n",
       "    }\n",
       "</style>\n",
       "<table border=\"1\" class=\"dataframe\">\n",
       "  <thead>\n",
       "    <tr style=\"text-align: right;\">\n",
       "      <th></th>\n",
       "      <th>accommodates</th>\n",
       "      <th>bathrooms</th>\n",
       "      <th>neighbourhood</th>\n",
       "      <th>num_beds</th>\n",
       "      <th>price</th>\n",
       "      <th>property_type</th>\n",
       "      <th>neighbourhood_enc</th>\n",
       "      <th>property_type_enc</th>\n",
       "    </tr>\n",
       "  </thead>\n",
       "  <tbody>\n",
       "    <tr>\n",
       "      <th>0</th>\n",
       "      <td>1.0</td>\n",
       "      <td>1.0</td>\n",
       "      <td>Kitsilano</td>\n",
       "      <td>1</td>\n",
       "      <td>39</td>\n",
       "      <td>Apartment</td>\n",
       "      <td>125.809959</td>\n",
       "      <td>69.143398</td>\n",
       "    </tr>\n",
       "    <tr>\n",
       "      <th>1</th>\n",
       "      <td>1.0</td>\n",
       "      <td>1.0</td>\n",
       "      <td>Kensington-Cedar Cottage</td>\n",
       "      <td>1</td>\n",
       "      <td>43</td>\n",
       "      <td>Townhouse</td>\n",
       "      <td>139.905285</td>\n",
       "      <td>106.935272</td>\n",
       "    </tr>\n",
       "    <tr>\n",
       "      <th>2</th>\n",
       "      <td>2.0</td>\n",
       "      <td>1.0</td>\n",
       "      <td>Dunbar-Southlands</td>\n",
       "      <td>1</td>\n",
       "      <td>20</td>\n",
       "      <td>Apartment</td>\n",
       "      <td>134.943902</td>\n",
       "      <td>69.143398</td>\n",
       "    </tr>\n",
       "    <tr>\n",
       "      <th>3</th>\n",
       "      <td>3.0</td>\n",
       "      <td>1.0</td>\n",
       "      <td>Fraserview</td>\n",
       "      <td>1</td>\n",
       "      <td>49</td>\n",
       "      <td>Bed and breakfast</td>\n",
       "      <td>153.119919</td>\n",
       "      <td>118.196231</td>\n",
       "    </tr>\n",
       "    <tr>\n",
       "      <th>4</th>\n",
       "      <td>2.0</td>\n",
       "      <td>1.0</td>\n",
       "      <td>Oakridge</td>\n",
       "      <td>1</td>\n",
       "      <td>49</td>\n",
       "      <td>Villa</td>\n",
       "      <td>131.082753</td>\n",
       "      <td>96.810569</td>\n",
       "    </tr>\n",
       "    <tr>\n",
       "      <th>...</th>\n",
       "      <td>...</td>\n",
       "      <td>...</td>\n",
       "      <td>...</td>\n",
       "      <td>...</td>\n",
       "      <td>...</td>\n",
       "      <td>...</td>\n",
       "      <td>...</td>\n",
       "      <td>...</td>\n",
       "    </tr>\n",
       "    <tr>\n",
       "      <th>403</th>\n",
       "      <td>4.0</td>\n",
       "      <td>1.0</td>\n",
       "      <td>Mount Pleasant</td>\n",
       "      <td>5</td>\n",
       "      <td>240</td>\n",
       "      <td>House</td>\n",
       "      <td>122.890244</td>\n",
       "      <td>190.939987</td>\n",
       "    </tr>\n",
       "    <tr>\n",
       "      <th>404</th>\n",
       "      <td>7.0</td>\n",
       "      <td>3.0</td>\n",
       "      <td>Grandview-Woodland</td>\n",
       "      <td>5</td>\n",
       "      <td>234</td>\n",
       "      <td>House</td>\n",
       "      <td>136.039950</td>\n",
       "      <td>190.939987</td>\n",
       "    </tr>\n",
       "    <tr>\n",
       "      <th>405</th>\n",
       "      <td>5.0</td>\n",
       "      <td>2.5</td>\n",
       "      <td>Kitsilano</td>\n",
       "      <td>5</td>\n",
       "      <td>249</td>\n",
       "      <td>House</td>\n",
       "      <td>125.809959</td>\n",
       "      <td>190.939987</td>\n",
       "    </tr>\n",
       "    <tr>\n",
       "      <th>406</th>\n",
       "      <td>4.0</td>\n",
       "      <td>1.0</td>\n",
       "      <td>Mount Pleasant</td>\n",
       "      <td>5</td>\n",
       "      <td>224</td>\n",
       "      <td>House</td>\n",
       "      <td>122.890244</td>\n",
       "      <td>190.939987</td>\n",
       "    </tr>\n",
       "    <tr>\n",
       "      <th>407</th>\n",
       "      <td>6.0</td>\n",
       "      <td>1.5</td>\n",
       "      <td>Riley Park</td>\n",
       "      <td>5</td>\n",
       "      <td>220</td>\n",
       "      <td>House</td>\n",
       "      <td>134.526341</td>\n",
       "      <td>190.939987</td>\n",
       "    </tr>\n",
       "  </tbody>\n",
       "</table>\n",
       "<p>328 rows × 8 columns</p>\n",
       "</div>"
      ],
      "text/plain": [
       "     accommodates  bathrooms             neighbourhood  num_beds  price  \\\n",
       "0             1.0        1.0                 Kitsilano         1     39   \n",
       "1             1.0        1.0  Kensington-Cedar Cottage         1     43   \n",
       "2             2.0        1.0         Dunbar-Southlands         1     20   \n",
       "3             3.0        1.0                Fraserview         1     49   \n",
       "4             2.0        1.0                  Oakridge         1     49   \n",
       "..            ...        ...                       ...       ...    ...   \n",
       "403           4.0        1.0            Mount Pleasant         5    240   \n",
       "404           7.0        3.0        Grandview-Woodland         5    234   \n",
       "405           5.0        2.5                 Kitsilano         5    249   \n",
       "406           4.0        1.0            Mount Pleasant         5    224   \n",
       "407           6.0        1.5                Riley Park         5    220   \n",
       "\n",
       "         property_type  neighbourhood_enc  property_type_enc  \n",
       "0            Apartment         125.809959          69.143398  \n",
       "1            Townhouse         139.905285         106.935272  \n",
       "2            Apartment         134.943902          69.143398  \n",
       "3    Bed and breakfast         153.119919         118.196231  \n",
       "4                Villa         131.082753          96.810569  \n",
       "..                 ...                ...                ...  \n",
       "403              House         122.890244         190.939987  \n",
       "404              House         136.039950         190.939987  \n",
       "405              House         125.809959         190.939987  \n",
       "406              House         122.890244         190.939987  \n",
       "407              House         134.526341         190.939987  \n",
       "\n",
       "[328 rows x 8 columns]"
      ]
     },
     "execution_count": 5,
     "metadata": {},
     "output_type": "execute_result"
    }
   ],
   "source": [
    "# Part B\n",
    "\n",
    "airbnb_no_nan = airbnb_df.dropna()\n",
    "\n",
    "airbnb_no_duplicates = airbnb_no_nan.drop_duplicates()\n",
    "\n",
    "weight = 10\n",
    "mean_encode_neighbourhood = get_smooth_mean_encode(airbnb_no_duplicates, \"neighbourhood\", \"price\", weight)\n",
    "mean_encode_property_type = get_smooth_mean_encode(airbnb_no_duplicates, \"property_type\", \"price\", weight)\n",
    "\n",
    "pd.set_option('mode.chained_assignment', None)\n",
    "\n",
    "airbnb_no_duplicates.loc[: ,'neighbourhood_enc'] = airbnb_no_duplicates[\"neighbourhood\"].map(mean_encode_neighbourhood)\n",
    "airbnb_no_duplicates.loc[: ,'property_type_enc'] = airbnb_no_duplicates[\"property_type\"].map(mean_encode_property_type)\n",
    "airbnb_no_duplicates"
   ]
  },
  {
   "cell_type": "markdown",
   "metadata": {},
   "source": [
    "Regression model only takes in numerical value.\n",
    "neighbourhood and property_type are categorical hence we need to have a way to encode them.\n",
    "One hot encoding could be a possible solution but we opt that solution out as there is too many cardinality if we were to use this type of encoding.\n",
    "Label encoding is not chosen as there is no relation between each category but this type of encoding might introduce unintended relation when used with certain algorithms.\n",
    "In this project, we implemented mean encoding / target encoding. Much like label encoding, this encoding method brings out the relation between similar categories, but the relations are bounded within the categories and target itself. It does not increase the size of the data hence make it a good alternative for the one hot encoding.\n",
    "One problem associated with mean encoding is overfitting of the model (eg. when there is only 1 value for a particulat category). Hence smoothing is done to overcome the problem. The weight of the smoothing is a hyperparameter hence it has to be tuned by trial and error to get the optimum result for the model."
   ]
  },
  {
   "cell_type": "code",
   "execution_count": 6,
   "metadata": {},
   "outputs": [],
   "source": [
    "# Part C\n",
    "\n",
    "from sklearn.model_selection import train_test_split\n",
    "from sklearn.linear_model import LinearRegression\n",
    "from sklearn import metrics\n",
    "import seaborn as sns\n",
    "import matplotlib.pyplot as plt\n",
    "%matplotlib inline\n",
    "\n",
    "features = [\"accommodates\", \"bathrooms\", \"num_beds\",\"neighbourhood_enc\", \"property_type_enc\"]\n",
    "X = airbnb_no_duplicates.loc[:, features]\n",
    "Y = airbnb_no_duplicates.loc[:, [\"price\"]]\n",
    "X_train, X_test, Y_train, Y_test = train_test_split(X, Y, test_size = 0.3)"
   ]
  },
  {
   "cell_type": "code",
   "execution_count": 7,
   "metadata": {
    "scrolled": false
   },
   "outputs": [
    {
     "data": {
      "text/plain": [
       "<seaborn.axisgrid.PairGrid at 0x114cc8950>"
      ]
     },
     "execution_count": 7,
     "metadata": {},
     "output_type": "execute_result"
    },
    {
     "data": {
      "image/png": "[encoded data removed]",
      "text/plain": [
       "<Figure size 2520x504 with 5 Axes>"
      ]
     },
     "metadata": {
      "needs_background": "light"
     },
     "output_type": "display_data"
    }
   ],
   "source": [
    "processed_df = pd.concat([X, Y], axis = 1, sort = True)\n",
    "\n",
    "# visualise relationship between preditors and response\n",
    "sns.pairplot(processed_df, \n",
    "             x_vars=features, \n",
    "             y_vars='price', height = 7)"
   ]
  },
  {
   "cell_type": "markdown",
   "metadata": {},
   "source": [
    "Preliminary analysis on the relationship between each predictors and response shows that there are no correlation between the predictors and response except for num_beds. num_beds could be a good feature for the regression model"
   ]
  },
  {
   "cell_type": "code",
   "execution_count": 8,
   "metadata": {},
   "outputs": [
    {
     "name": "stdout",
     "output_type": "stream",
     "text": [
      "                   accommodates  bathrooms  num_beds  neighbourhood_enc  \\\n",
      "accommodates           1.000000   0.388128  0.626619           0.327282   \n",
      "bathrooms              0.388128   1.000000  0.214590           0.131595   \n",
      "num_beds               0.626619   0.214590  1.000000           0.384435   \n",
      "neighbourhood_enc      0.327282   0.131595  0.384435           1.000000   \n",
      "property_type_enc      0.654029   0.162218  0.862279           0.571932   \n",
      "price                  0.634433   0.223523  0.975957           0.397300   \n",
      "\n",
      "                   property_type_enc     price  \n",
      "accommodates                0.654029  0.634433  \n",
      "bathrooms                   0.162218  0.223523  \n",
      "num_beds                    0.862279  0.975957  \n",
      "neighbourhood_enc           0.571932  0.397300  \n",
      "property_type_enc           1.000000  0.859617  \n",
      "price                       0.859617  1.000000  \n"
     ]
    },
    {
     "data": {
      "image/png": "[encoded data removed]",
      "text/plain": [
       "<Figure size 864x576 with 2 Axes>"
      ]
     },
     "metadata": {
      "needs_background": "light"
     },
     "output_type": "display_data"
    }
   ],
   "source": [
    "plt.figure(figsize=(12,8))\n",
    "correlation = processed_df.corr()\n",
    "sns.heatmap(correlation, annot=True, cmap=plt.cm.Reds)\n",
    "print (correlation)"
   ]
  },
  {
   "cell_type": "raw",
   "metadata": {},
   "source": [
    "Correlation of all the preditors with response shows that num_beds has the highest correlation amongst other predictors.\n",
    "\n",
    "num_beds and accomodates have relatively high correlation value with each other. We might want to keep this in mind later to prevent multicolinearity"
   ]
  },
  {
   "cell_type": "code",
   "execution_count": 9,
   "metadata": {},
   "outputs": [
    {
     "name": "stdout",
     "output_type": "stream",
     "text": [
      "Intercept: -11.342801836520678\n",
      "accommodates : 0.7351487297170304\n",
      "bathrooms : -0.5867192758962608\n",
      "num_beds : 43.94275581413647\n",
      "neighbourhood_enc : -0.004668449610037942\n",
      "property_type_enc : 0.06956188792718832\n"
     ]
    }
   ],
   "source": [
    "# Part D\n",
    "\n",
    "from sklearn.linear_model import LinearRegression \n",
    "\n",
    "regression_model = LinearRegression()\n",
    "regression_model.fit(X_train, Y_train)\n",
    "\n",
    "print(\"Intercept:\", regression_model.intercept_[0])\n",
    "coeeficients = list(zip(features, regression_model.coef_.flatten()))\n",
    "for key, value in coeeficients:\n",
    "    print (key, \":\", value)"
   ]
  },
  {
   "cell_type": "markdown",
   "metadata": {},
   "source": [
    "The formula of the model is hence:\n",
    "    y = 0.811088 * accommodates + (-0.4748224) * bathrooms + 41.778666 * num_beds + 0.0811051 * neighbourhood_enc + 0.0955099 * 0.0955099 + (-20.845709)"
   ]
  },
  {
   "cell_type": "code",
   "execution_count": 10,
   "metadata": {},
   "outputs": [
    {
     "name": "stdout",
     "output_type": "stream",
     "text": [
      "VIF values\n",
      "accommodates : 2.1177284047498257\n",
      "bathrooms : 1.193378889323627\n",
      "num_beds : 4.624189904086773\n",
      "neighbourhood_enc : 1.5558078057721376\n",
      "property_type_enc : 6.241863550455427\n",
      "const : 81.75155207875964\n"
     ]
    }
   ],
   "source": [
    "from statsmodels.stats.outliers_influence import variance_inflation_factor\n",
    "X_vif = X_train.assign(const=1)\n",
    "VIF_values = [variance_inflation_factor(X_vif.values, i) for i in range(X_vif.shape[1])]\n",
    "\n",
    "print (\"VIF values\")\n",
    "for i in range (len(VIF_values)):\n",
    "    print(X_vif.columns[i] + \" :\", VIF_values[i])"
   ]
  },
  {
   "cell_type": "raw",
   "metadata": {},
   "source": [
    "Variance Inflation Factor (VIF) is a measure of colinearity among predictor variables within a multiple regression.\n",
    "VIF of 1 shows that there is no multicolinearity, the higher the value, the higher they are colinear to each other.\n",
    "The multicolinearity of all the preditors are relatively low, hence we can safely assume that the multicolinearity between preditors is not significant.\n",
    "VIF of neighbourhood_enc and property_type_encode should not be taken into account as they are categorical values."
   ]
  },
  {
   "cell_type": "code",
   "execution_count": 11,
   "metadata": {},
   "outputs": [
    {
     "data": {
      "text/plain": [
       "<matplotlib.axes._subplots.AxesSubplot at 0x126da6910>"
      ]
     },
     "execution_count": 11,
     "metadata": {},
     "output_type": "execute_result"
    },
    {
     "data": {
      "image/png": "[encoded data removed]",
      "text/plain": [
       "<Figure size 1152x720 with 1 Axes>"
      ]
     },
     "metadata": {
      "needs_background": "light"
     },
     "output_type": "display_data"
    }
   ],
   "source": [
    "# Part E\n",
    "\n",
    "result_df = pd.DataFrame({\"Actual\": Y_test.values.flatten(), \"Predicted\": regression_model.predict(X_test).flatten()}, index = range(len(Y_test)))\n",
    "result_df.head(25).plot(kind='bar',figsize=(16,10))"
   ]
  },
  {
   "cell_type": "markdown",
   "metadata": {},
   "source": [
    "Comparison of the actual and predicted values from testing dataset shows that the prediction values are close to the actual value"
   ]
  },
  {
   "cell_type": "code",
   "execution_count": 14,
   "metadata": {},
   "outputs": [
    {
     "name": "stdout",
     "output_type": "stream",
     "text": [
      "Mean Absolute Error: 10.802384898607622\n",
      "Mean Squared Error: 156.6029276717566\n",
      "Root Mean Squared Error: 12.514109144152314\n"
     ]
    }
   ],
   "source": [
    "import numpy as np\n",
    "\n",
    "print(\"Mean Absolute Error:\", metrics.mean_absolute_error(result_df[\"Actual\"], result_df[\"Predicted\"]))\n",
    "print(\"Mean Squared Error:\", metrics.mean_squared_error(result_df[\"Actual\"], result_df[\"Predicted\"]))\n",
    "print(\"Root Mean Squared Error:\", np.sqrt(metrics.mean_squared_error(result_df[\"Actual\"], result_df[\"Predicted\"])))"
   ]
  },
  {
   "cell_type": "code",
   "execution_count": 15,
   "metadata": {},
   "outputs": [],
   "source": [
    "# make predictions of the price\n",
    "def make_predictions (accommodates, bathrooms, num_beds, neighbourhood, property_type):\n",
    "    neighbourhood_enc = mean_encode_neighbourhood[neighbourhood]\n",
    "    property_type_enc = mean_encode_property_type[property_type]\n",
    "    results = regression_model.predict([[accommodates, bathrooms, num_beds, neighbourhood_enc, property_type_enc]])\n",
    "    return (results[0][0])"
   ]
  },
  {
   "cell_type": "code",
   "execution_count": 16,
   "metadata": {},
   "outputs": [
    {
     "data": {
      "text/plain": [
       "36.97079126536503"
      ]
     },
     "execution_count": 16,
     "metadata": {},
     "output_type": "execute_result"
    }
   ],
   "source": [
    "make_predictions(accommodates = 1.0, \n",
    "                 bathrooms = 1.0, \n",
    "                 num_beds = 1, \n",
    "                 neighbourhood = \"Kitsilano\", \n",
    "                 property_type = \"Apartment\")"
   ]
  },
  {
   "cell_type": "code",
   "execution_count": null,
   "metadata": {},
   "outputs": [],
   "source": []
  },
  {
   "cell_type": "code",
   "execution_count": null,
   "metadata": {},
   "outputs": [],
   "source": []
  }
 ],
 "metadata": {
  "kernelspec": {
   "display_name": "Python 3",
   "language": "python",
   "name": "python3"
  },
  "language_info": {
   "codemirror_mode": {
    "name": "ipython",
    "version": 3
   },
   "file_extension": ".py",
   "mimetype": "text/x-python",
   "name": "python",
   "nbconvert_exporter": "python",
   "pygments_lexer": "ipython3",
   "version": "3.7.4"
  }
 },
 "nbformat": 4,
 "nbformat_minor": 2
}
